{
 "cells": [
  {
   "cell_type": "code",
   "execution_count": null,
   "id": "f289ed0f",
   "metadata": {},
   "outputs": [],
   "source": [
    "!pip install transformers torch"
   ]
  },
  {
   "cell_type": "code",
   "execution_count": 2,
   "id": "251b4f60",
   "metadata": {},
   "outputs": [
    {
     "name": "stderr",
     "output_type": "stream",
     "text": [
      "Some weights of BertForSequenceClassification were not initialized from the model checkpoint at bert-base-uncased and are newly initialized: ['classifier.bias', 'classifier.weight']\n",
      "You should probably TRAIN this model on a down-stream task to be able to use it for predictions and inference.\n",
      "We strongly recommend passing in an `attention_mask` since your input_ids may be padded. See https://huggingface.co/docs/transformers/troubleshooting#incorrect-output-when-padding-tokens-arent-masked.\n"
     ]
    },
    {
     "name": "stdout",
     "output_type": "stream",
     "text": [
      "Epoch 1 Loss: 3.5283971428871155\n",
      "Epoch 2 Loss: 3.0824933648109436\n",
      "Epoch 3 Loss: 2.5538235902786255\n",
      "Fine-tuning completed and model saved.\n"
     ]
    }
   ],
   "source": [
    "import torch\n",
    "from transformers import BertTokenizer, BertForSequenceClassification\n",
    "from torch.utils.data import DataLoader, TensorDataset\n",
    "\n",
    "#  data for sentiment analysis (20 observations)\n",
    "dummy_data = [\n",
    "    (\"I love this product!\", 1), \n",
    "    (\"This product is great.\", 1),\n",
    "    (\"This product is terrible.\", 0),\n",
    "    (\"I hate this product.\", 0),\n",
    "    (\"This product is okay.\", 1),\n",
    "    (\"The quality is amazing.\", 1),\n",
    "    (\"Not recommended.\", 0),\n",
    "    (\"Excellent service!\", 1),\n",
    "    (\"The worst experience ever.\", 0),\n",
    "    (\"Highly disappointing.\", 0),\n",
    "    (\"Good value for money.\", 1),\n",
    "    (\"Could be better.\", 0),\n",
    "    (\"Very satisfied.\", 1),\n",
    "    (\"Totally worth it.\", 1),\n",
    "    (\"Poor performance.\", 0),\n",
    "    (\"Superb!\", 1),\n",
    "    (\"Bad customer service.\", 0),\n",
    "    (\"Extremely unhappy.\", 0),\n",
    "    (\"Amazing!\", 1),\n",
    "    (\"Not worth it.\", 0)\n",
    "]\n",
    "\n",
    "# Define the BERT model\n",
    "model = BertForSequenceClassification.from_pretrained('bert-base-uncased', num_labels=2)\n",
    "tokenizer = BertTokenizer.from_pretrained('bert-base-uncased')\n",
    "\n",
    "# Tokenize input text and add special tokens\n",
    "input_texts = [text for text, _ in dummy_data]\n",
    "input_ids = tokenizer(input_texts, padding=True, truncation=True, return_tensors='pt')['input_ids']\n",
    "\n",
    "# Add dummy labels\n",
    "labels = torch.tensor([label for _, label in dummy_data])\n",
    "\n",
    "# Create DataLoader\n",
    "dataset = TensorDataset(input_ids, labels)\n",
    "dataloader = DataLoader(dataset, batch_size=4, shuffle=True)\n",
    "\n",
    "# Fine-tuning BERT\n",
    "optimizer = torch.optim.AdamW(model.parameters(), lr=2e-5)\n",
    "device = torch.device(\"cuda\" if torch.cuda.is_available() else \"cpu\")\n",
    "\n",
    "for epoch in range(3):\n",
    "    model.train()\n",
    "    total_loss = 0\n",
    "    for batch in dataloader:\n",
    "        batch = tuple(t.to(device) for t in batch)\n",
    "        inputs, labels = batch\n",
    "\n",
    "        optimizer.zero_grad()\n",
    "\n",
    "        outputs = model(inputs, labels=labels)\n",
    "        loss = outputs[0]\n",
    "        total_loss += loss.item()\n",
    "        \n",
    "        loss.backward()\n",
    "        optimizer.step()\n",
    "\n",
    "    print(\"Epoch {} Loss: {}\".format(epoch+1, total_loss))\n",
    "\n",
    "# Save the fine-tuned model\n",
    "model.save_pretrained(\"fine_tuned_bert\")\n",
    "\n",
    "print(\"Fine-tuning completed and model saved.\")\n"
   ]
  },
  {
   "cell_type": "code",
   "execution_count": 3,
   "id": "0f8e7bbc",
   "metadata": {},
   "outputs": [
    {
     "name": "stdout",
     "output_type": "stream",
     "text": [
      "Accuracy: 0.8\n"
     ]
    }
   ],
   "source": [
    "import torch\n",
    "from transformers import BertTokenizer, BertForSequenceClassification\n",
    "from torch.utils.data import DataLoader, TensorDataset\n",
    "\n",
    "# Dummy evaluation data for sentiment analysis (10 observations)\n",
    "evaluation_data = [\n",
    "    (\"This product is amazing!\", 1), \n",
    "    (\"I'm satisfied with this purchase.\", 1),\n",
    "    (\"Poor quality.\", 0),\n",
    "    (\"Don't waste your money.\", 0),\n",
    "    (\"Great experience overall.\", 1),\n",
    "    (\"Could be better.\", 0),\n",
    "    (\"Very happy with the service.\", 1),\n",
    "    (\"Disappointing.\", 0),\n",
    "    (\"Impressed with the results.\", 1),\n",
    "    (\"Not recommended at all.\", 0)\n",
    "]\n",
    "\n",
    "# Tokenize input text and add special tokens\n",
    "evaluation_texts = [text for text, _ in evaluation_data]\n",
    "evaluation_labels = torch.tensor([label for _, label in evaluation_data])\n",
    "\n",
    "# Load fine-tuned model\n",
    "model = BertForSequenceClassification.from_pretrained('fine_tuned_bert')\n",
    "tokenizer = BertTokenizer.from_pretrained('bert-base-uncased')\n",
    "\n",
    "# Tokenize input text and add special tokens\n",
    "evaluation_input_ids = tokenizer(evaluation_texts, padding=True, truncation=True, return_tensors='pt')['input_ids']\n",
    "\n",
    "# Create DataLoader\n",
    "evaluation_dataset = TensorDataset(evaluation_input_ids, evaluation_labels)\n",
    "evaluation_dataloader = DataLoader(evaluation_dataset, batch_size=1)\n",
    "\n",
    "# Define device\n",
    "device = torch.device(\"cuda\" if torch.cuda.is_available() else \"cpu\")\n",
    "model.to(device)\n",
    "\n",
    "# Evaluation metric: Accuracy\n",
    "def evaluate(model, dataloader):\n",
    "    model.eval()\n",
    "    correct = 0\n",
    "    total = 0\n",
    "    with torch.no_grad():\n",
    "        for inputs, labels in dataloader:\n",
    "            inputs, labels = inputs.to(device), labels.to(device)\n",
    "            outputs = model(inputs)\n",
    "            _, predicted = torch.max(outputs[0], 1)\n",
    "            total += labels.size(0)\n",
    "            correct += (predicted == labels).sum().item()\n",
    "    return correct / total\n",
    "\n",
    "# Evaluate the model\n",
    "accuracy = evaluate(model, evaluation_dataloader)\n",
    "print(\"Accuracy:\", accuracy)\n"
   ]
  },
  {
   "cell_type": "code",
   "execution_count": null,
   "id": "1a08bc80",
   "metadata": {},
   "outputs": [],
   "source": []
  }
 ],
 "metadata": {
  "kernelspec": {
   "display_name": "Python 3 (ipykernel)",
   "language": "python",
   "name": "python3"
  },
  "language_info": {
   "codemirror_mode": {
    "name": "ipython",
    "version": 3
   },
   "file_extension": ".py",
   "mimetype": "text/x-python",
   "name": "python",
   "nbconvert_exporter": "python",
   "pygments_lexer": "ipython3",
   "version": "3.10.0"
  }
 },
 "nbformat": 4,
 "nbformat_minor": 5
}
